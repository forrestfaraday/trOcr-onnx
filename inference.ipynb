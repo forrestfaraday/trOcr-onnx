{
 "cells": [
  {
   "cell_type": "code",
   "execution_count": 12,
   "id": "62c34668-ece5-46a2-ae8a-3d7de3d088b1",
   "metadata": {},
   "outputs": [],
   "source": [
    "model_ckpt = \"microsoft/trocr-base-handwritten\"\n"
   ]
  },
  {
   "cell_type": "code",
   "execution_count": 13,
   "id": "e2779eb7-22f8-48bb-9230-f2181608e396",
   "metadata": {},
   "outputs": [
    {
     "name": "stdout",
     "output_type": "stream",
     "text": [
      "Framework not requested. Using torch to export to ONNX.\n",
      "Some weights of VisionEncoderDecoderModel were not initialized from the model checkpoint at microsoft/trocr-base-handwritten and are newly initialized: ['encoder.pooler.dense.bias', 'encoder.pooler.dense.weight']\n",
      "You should probably TRAIN this model on a down-stream task to be able to use it for predictions and inference.\n",
      "Using framework PyTorch: 1.13.0+cu117\n",
      "/home/forest/miniconda3/envs/ort/lib/python3.9/site-packages/transformers/models/vit/modeling_vit.py:176: TracerWarning: Converting a tensor to a Python boolean might cause the trace to be incorrect. We can't record the data flow of Python values, so this value will be treated as a constant in the future. This means that the trace might not generalize to other inputs!\n",
      "  if num_channels != self.num_channels:\n",
      "/home/forest/miniconda3/envs/ort/lib/python3.9/site-packages/transformers/models/vit/modeling_vit.py:181: TracerWarning: Converting a tensor to a Python boolean might cause the trace to be incorrect. We can't record the data flow of Python values, so this value will be treated as a constant in the future. This means that the trace might not generalize to other inputs!\n",
      "  if height != self.image_size[0] or width != self.image_size[1]:\n",
      "Validating ONNX model...\n",
      "\t-[✓] ONNX model output names match reference model ({'last_hidden_state'})\n",
      "\t- Validating ONNX Model output \"last_hidden_state\":\n",
      "\t\t-[✓] (3, 577, 768) matches (3, 577, 768)\n",
      "\t\t-[x] values not close enough (atol: 0.001)\n",
      "Traceback (most recent call last):\n",
      "  File \"/home/forest/miniconda3/envs/ort/lib/python3.9/runpy.py\", line 197, in _run_module_as_main\n",
      "    return _run_code(code, main_globals, None,\n",
      "  File \"/home/forest/miniconda3/envs/ort/lib/python3.9/runpy.py\", line 87, in _run_code\n",
      "    exec(code, run_globals)\n",
      "  File \"/home/forest/miniconda3/envs/ort/lib/python3.9/site-packages/transformers/onnx/__main__.py\", line 180, in <module>\n",
      "    main()\n",
      "  File \"/home/forest/miniconda3/envs/ort/lib/python3.9/site-packages/transformers/onnx/__main__.py\", line 107, in main\n",
      "    validate_model_outputs(\n",
      "  File \"/home/forest/miniconda3/envs/ort/lib/python3.9/site-packages/transformers/onnx/convert.py\", line 472, in validate_model_outputs\n",
      "    raise ValueError(\n",
      "ValueError: Outputs values doesn't match between reference model and ONNX exported model: Got max absolute difference of: 0.0014147758483886719 for [2.5555642 5.430167 ] vs [2.554361  5.4287524]\n"
     ]
    }
   ],
   "source": [
    "!python -m transformers.onnx --model={model_ckpt} --feature=vision2seq-lm onnx/ --atol 1e-3\n"
   ]
  },
  {
   "cell_type": "code",
   "execution_count": null,
   "id": "f2fe1612-54ca-4860-8510-e65ec72898cb",
   "metadata": {},
   "outputs": [],
   "source": [
    "!python -m transforme"
   ]
  }
 ],
 "metadata": {
  "kernelspec": {
   "display_name": "Python 3 (ipykernel)",
   "language": "python",
   "name": "python3"
  },
  "language_info": {
   "codemirror_mode": {
    "name": "ipython",
    "version": 3
   },
   "file_extension": ".py",
   "mimetype": "text/x-python",
   "name": "python",
   "nbconvert_exporter": "python",
   "pygments_lexer": "ipython3",
   "version": "3.9.0"
  },
  "vscode": {
   "interpreter": {
    "hash": "3c3e05ff27fc98a91ae76f0551d628de3e89010ccf719267306f9ed11c6df735"
   }
  }
 },
 "nbformat": 4,
 "nbformat_minor": 5
}
